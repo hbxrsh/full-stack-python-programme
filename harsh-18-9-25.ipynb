{
 "cells": [
  {
   "cell_type": "code",
   "execution_count": 1,
   "id": "30901755-8366-427d-b89a-5d3191989aa7",
   "metadata": {},
   "outputs": [
    {
     "name": "stdout",
     "output_type": "stream",
     "text": [
      "hello , python full stack students!\n"
     ]
    }
   ],
   "source": [
    "print(\"hello , python full stack students!\")"
   ]
  },
  {
   "cell_type": "code",
   "execution_count": 2,
   "id": "d577e546-2683-4120-93d0-6e8c7de4cd2e",
   "metadata": {},
   "outputs": [
    {
     "name": "stdout",
     "output_type": "stream",
     "text": [
      "back hand , front hand\n"
     ]
    }
   ],
   "source": [
    "print(\"back hand , front hand\")"
   ]
  },
  {
   "cell_type": "code",
   "execution_count": 3,
   "id": "ef0f15e8-8c8f-43d6-b286-6835d5b42ec1",
   "metadata": {},
   "outputs": [
    {
     "name": "stdout",
     "output_type": "stream",
     "text": [
      "raghu 69 4.3 True\n"
     ]
    }
   ],
   "source": [
    "name = \"raghu\"\n",
    "age = 69\n",
    "gpa = 4.3\n",
    "is_student = True \n",
    "print(name , age , gpa , is_student)"
   ]
  },
  {
   "cell_type": "code",
   "execution_count": 6,
   "id": "a2d5a399-b57f-4248-a940-ac67c5bffa75",
   "metadata": {},
   "outputs": [
    {
     "name": "stdout",
     "output_type": "stream",
     "text": [
      "ROHAN\n"
     ]
    }
   ],
   "source": [
    "NAME = \"ROHAN\" \n",
    "print(NAME)"
   ]
  },
  {
   "cell_type": "code",
   "execution_count": 11,
   "id": "c92611a3-3c77-43ae-9f60-73a435476842",
   "metadata": {},
   "outputs": [],
   "source": [
    "name1=\"lalith\"\n",
    "name2=\"gaurav\"\n",
    "name3=\"rushi\"\n",
    "name4=\"ADITYA\""
   ]
  },
  {
   "cell_type": "code",
   "execution_count": 12,
   "id": "d7d27be2-7e76-4751-a5a4-5b7af1fcd5fc",
   "metadata": {},
   "outputs": [
    {
     "name": "stdout",
     "output_type": "stream",
     "text": [
      "lalith\n"
     ]
    }
   ],
   "source": [
    "print(name1)"
   ]
  },
  {
   "cell_type": "code",
   "execution_count": 13,
   "id": "a2d77c6a-e6c2-4cb9-bcd5-a5d749d215c0",
   "metadata": {},
   "outputs": [
    {
     "name": "stdout",
     "output_type": "stream",
     "text": [
      "ADITYA\n"
     ]
    }
   ],
   "source": [
    "print(name4)"
   ]
  },
  {
   "cell_type": "code",
   "execution_count": 14,
   "id": "ad2d66c8-1441-4f17-afe3-415a150eadf0",
   "metadata": {},
   "outputs": [
    {
     "name": "stdout",
     "output_type": "stream",
     "text": [
      "raghu\n"
     ]
    }
   ],
   "source": [
    "print(name)"
   ]
  },
  {
   "cell_type": "code",
   "execution_count": 17,
   "id": "c6c5e4be-19aa-4109-b6ca-45cb3aaa6452",
   "metadata": {},
   "outputs": [],
   "source": [
    "name=\"raghavendra\""
   ]
  },
  {
   "cell_type": "code",
   "execution_count": 18,
   "id": "59e263bc-8ae2-4f31-bbf3-135c75d6aea9",
   "metadata": {},
   "outputs": [
    {
     "name": "stdout",
     "output_type": "stream",
     "text": [
      "raghavendra\n"
     ]
    }
   ],
   "source": [
    "print(name)"
   ]
  },
  {
   "cell_type": "code",
   "execution_count": 28,
   "id": "65a43cac-7e08-4b63-abb3-f90a2238045b",
   "metadata": {},
   "outputs": [],
   "source": [
    "x = 4\n",
    "a = 5\n",
    "u =\"raghu\"\n",
    "flag =False"
   ]
  },
  {
   "cell_type": "code",
   "execution_count": 30,
   "id": "8226b30f-2e19-4c93-af00-418cb2757491",
   "metadata": {},
   "outputs": [
    {
     "name": "stdout",
     "output_type": "stream",
     "text": [
      "<class 'int'> <class 'int'> <class 'str'> <class 'bool'>\n"
     ]
    }
   ],
   "source": [
    "print(type(x) ,type(a) ,type(u) ,type(flag))"
   ]
  },
  {
   "cell_type": "code",
   "execution_count": 35,
   "id": "d570cea8-c7ae-47bc-a21c-fdf51856c1e6",
   "metadata": {},
   "outputs": [
    {
     "name": "stdout",
     "output_type": "stream",
     "text": [
      "45\n"
     ]
    }
   ],
   "source": [
    "print(x)"
   ]
  },
  {
   "cell_type": "code",
   "execution_count": 32,
   "id": "30d3c2c0-b40e-46da-b93b-c82af9ab6e10",
   "metadata": {},
   "outputs": [
    {
     "name": "stdout",
     "output_type": "stream",
     "text": [
      "raghu\n"
     ]
    }
   ],
   "source": [
    "print(u)"
   ]
  },
  {
   "cell_type": "code",
   "execution_count": 33,
   "id": "367a28e3-2437-4c42-ab0a-916c51988f2c",
   "metadata": {},
   "outputs": [
    {
     "name": "stdout",
     "output_type": "stream",
     "text": [
      "False\n"
     ]
    }
   ],
   "source": [
    "print(flag)"
   ]
  },
  {
   "cell_type": "code",
   "execution_count": 34,
   "id": "014d84a9-0ac8-4570-80f9-53ddeac872bf",
   "metadata": {},
   "outputs": [],
   "source": [
    "x = 45"
   ]
  },
  {
   "cell_type": "code",
   "execution_count": 50,
   "id": "cfbba976-d8e4-41ee-8523-a4db58e3a29e",
   "metadata": {},
   "outputs": [],
   "source": [
    "name=\"lali\"\n",
    "college=\"wesley\"\n",
    "favoriteprogramminglanguage=\"java\""
   ]
  },
  {
   "cell_type": "code",
   "execution_count": 37,
   "id": "d9cf7b69-7675-47ba-82b9-aa3b9104aec9",
   "metadata": {},
   "outputs": [],
   "source": [
    "year1=2006\n",
    "year2=2025"
   ]
  },
  {
   "cell_type": "code",
   "execution_count": 45,
   "id": "ec102348-7063-41b7-9b19-e6f6323b00c2",
   "metadata": {},
   "outputs": [],
   "source": [
    "age=year2-year1"
   ]
  },
  {
   "cell_type": "code",
   "execution_count": 46,
   "id": "34d0bade-f355-4cc3-a7f0-4518a9f62731",
   "metadata": {},
   "outputs": [
    {
     "name": "stdout",
     "output_type": "stream",
     "text": [
      "19\n"
     ]
    }
   ],
   "source": [
    "print(age)"
   ]
  },
  {
   "cell_type": "code",
   "execution_count": 56,
   "id": "f9ce0454-19c1-4f93-ba13-cef80e6d5d1a",
   "metadata": {},
   "outputs": [],
   "source": [
    "movie_name=\"raghu KBL the G.O.A.T\"\n",
    "release_year=1968\n",
    "rating=0.9"
   ]
  },
  {
   "cell_type": "code",
   "execution_count": 54,
   "id": "36f5923a-e204-4d55-aee5-4b34c98b13d3",
   "metadata": {},
   "outputs": [
    {
     "name": "stdout",
     "output_type": "stream",
     "text": [
      "raghu KBL the G.O.A.T\n"
     ]
    }
   ],
   "source": [
    "print(movie_name)"
   ]
  },
  {
   "cell_type": "code",
   "execution_count": 57,
   "id": "72de2154-1a9e-4beb-a858-5e673c1db3d5",
   "metadata": {},
   "outputs": [
    {
     "name": "stdout",
     "output_type": "stream",
     "text": [
      "addition: 5902531\n"
     ]
    }
   ],
   "source": [
    "print(\"addition:\",456987+5445544)"
   ]
  },
  {
   "cell_type": "code",
   "execution_count": 58,
   "id": "38676336-a752-4d36-8e1d-0fb1a4e71fb9",
   "metadata": {},
   "outputs": [
    {
     "name": "stdout",
     "output_type": "stream",
     "text": [
      "division: 9.766998606720785\n"
     ]
    }
   ],
   "source": [
    "print(\"division:\",454622222452/46546768435)"
   ]
  },
  {
   "cell_type": "code",
   "execution_count": 61,
   "id": "0d67e41a-16bb-423d-b9d9-50cf2fe28e94",
   "metadata": {},
   "outputs": [
    {
     "name": "stdout",
     "output_type": "stream",
     "text": [
      "floor division: 5\n"
     ]
    }
   ],
   "source": [
    "print(\"floor division:\",45//9)"
   ]
  },
  {
   "cell_type": "code",
   "execution_count": 65,
   "id": "b1832301-29f8-472d-ba86-a3901cf09f5a",
   "metadata": {},
   "outputs": [
    {
     "name": "stdout",
     "output_type": "stream",
     "text": [
      "power: 81\n"
     ]
    }
   ],
   "source": [
    "print(\"power:\",3**4)"
   ]
  },
  {
   "cell_type": "code",
   "execution_count": 4,
   "id": "3d2eee51-34be-4547-b431-931a634afdaa",
   "metadata": {},
   "outputs": [],
   "source": [
    "a=4548\n",
    "c=68435"
   ]
  },
  {
   "cell_type": "code",
   "execution_count": 6,
   "id": "6313e867-e28b-4391-ad8b-19ffe7c980c6",
   "metadata": {},
   "outputs": [
    {
     "name": "stdout",
     "output_type": "stream",
     "text": [
      "True\n"
     ]
    }
   ],
   "source": [
    "print(c>a)#false"
   ]
  },
  {
   "cell_type": "code",
   "execution_count": 74,
   "id": "4885fda9-0dbd-4c59-8dc0-dfd116cadc28",
   "metadata": {},
   "outputs": [
    {
     "name": "stdout",
     "output_type": "stream",
     "text": [
      "True\n"
     ]
    }
   ],
   "source": [
    "print(a==4548)#True"
   ]
  },
  {
   "cell_type": "code",
   "execution_count": 7,
   "id": "4a9d7f16-4615-46ad-95a9-6368aa0db049",
   "metadata": {},
   "outputs": [
    {
     "name": "stdout",
     "output_type": "stream",
     "text": [
      "False\n"
     ]
    }
   ],
   "source": [
    "print((c<a)and(c==68435))#True"
   ]
  },
  {
   "cell_type": "code",
   "execution_count": 8,
   "id": "ba4ec551-5944-47ee-b5b7-ae91aeb50acb",
   "metadata": {},
   "outputs": [],
   "source": [
    "fruits=[\"apple\",\"mango\",\"banana\",\"pineapple\"]"
   ]
  },
  {
   "cell_type": "code",
   "execution_count": 9,
   "id": "fd366103-494c-400d-b365-b7ba825bd187",
   "metadata": {},
   "outputs": [
    {
     "name": "stdout",
     "output_type": "stream",
     "text": [
      "['apple', 'mango', 'banana', 'pineapple']\n"
     ]
    }
   ],
   "source": [
    "print(fruits)"
   ]
  },
  {
   "cell_type": "code",
   "execution_count": 10,
   "id": "f4f07871-a104-45d2-9313-00bad3e80e8c",
   "metadata": {},
   "outputs": [],
   "source": [
    "fruits.append(\"orange\")"
   ]
  },
  {
   "cell_type": "code",
   "execution_count": 11,
   "id": "9f605f9d-ff75-4058-8840-d70e15e15ca9",
   "metadata": {},
   "outputs": [
    {
     "name": "stdout",
     "output_type": "stream",
     "text": [
      "['apple', 'mango', 'banana', 'pineapple', 'orange']\n"
     ]
    }
   ],
   "source": [
    "print(fruits)"
   ]
  },
  {
   "cell_type": "code",
   "execution_count": 12,
   "id": "aa4a6699-d846-40a0-90c3-0aa49d109df1",
   "metadata": {},
   "outputs": [
    {
     "name": "stdout",
     "output_type": "stream",
     "text": [
      "mango\n"
     ]
    }
   ],
   "source": [
    "print(fruits[1])"
   ]
  },
  {
   "cell_type": "code",
   "execution_count": 13,
   "id": "02d0050d-3e60-4026-9953-39af6e85c253",
   "metadata": {},
   "outputs": [
    {
     "name": "stdout",
     "output_type": "stream",
     "text": [
      "apple\n"
     ]
    }
   ],
   "source": [
    "print(fruits[0])"
   ]
  },
  {
   "cell_type": "code",
   "execution_count": 14,
   "id": "ffb62d24-3368-46d6-b99a-04b649c1b527",
   "metadata": {},
   "outputs": [],
   "source": [
    "Drugs=[\"heroine\",\"cocaine\",\"ketamin\",\"CNS\",\"meth\"]"
   ]
  },
  {
   "cell_type": "code",
   "execution_count": 19,
   "id": "882bdf8b-fd18-40b2-b9c6-520c7368c51b",
   "metadata": {},
   "outputs": [
    {
     "name": "stdout",
     "output_type": "stream",
     "text": [
      "heroine meth\n"
     ]
    }
   ],
   "source": [
    "print(Drugs[0],Drugs[4])"
   ]
  },
  {
   "cell_type": "code",
   "execution_count": 20,
   "id": "eb4ea30c-9b4f-46ad-8876-b46fe2a35668",
   "metadata": {},
   "outputs": [],
   "source": [
    "Drugs.append(\"b2\")"
   ]
  },
  {
   "cell_type": "code",
   "execution_count": 21,
   "id": "66d66e64-9d5c-4a5e-8e3a-88497d93196b",
   "metadata": {},
   "outputs": [
    {
     "name": "stdout",
     "output_type": "stream",
     "text": [
      "['heroine', 'cocaine', 'ketamin', 'CNS', 'meth', 'b2']\n"
     ]
    }
   ],
   "source": [
    "print(Drugs)"
   ]
  },
  {
   "cell_type": "code",
   "execution_count": 22,
   "id": "32ab9261-165f-49a5-b0a6-bc9b41b14f20",
   "metadata": {},
   "outputs": [],
   "source": [
    "fruits.remove(\"pineapple\")"
   ]
  },
  {
   "cell_type": "code",
   "execution_count": 23,
   "id": "fd2c9966-f594-4daf-b17c-130911b346c9",
   "metadata": {},
   "outputs": [
    {
     "name": "stdout",
     "output_type": "stream",
     "text": [
      "['apple', 'mango', 'banana', 'orange']\n"
     ]
    }
   ],
   "source": [
    "print(fruits)"
   ]
  },
  {
   "cell_type": "code",
   "execution_count": 24,
   "id": "bba50660-2d14-4a8c-89fd-b2258564056e",
   "metadata": {},
   "outputs": [],
   "source": [
    "Drugs.sort()"
   ]
  },
  {
   "cell_type": "code",
   "execution_count": 26,
   "id": "a2c8b319-7972-47b4-9298-6e3162129ae1",
   "metadata": {},
   "outputs": [
    {
     "name": "stdout",
     "output_type": "stream",
     "text": [
      "['CNS', 'b2', 'cocaine', 'heroine', 'ketamin', 'meth']\n"
     ]
    }
   ],
   "source": [
    "print(Drugs)"
   ]
  },
  {
   "cell_type": "code",
   "execution_count": 27,
   "id": "45b132d0-4084-4795-8e1e-cae9e978a907",
   "metadata": {},
   "outputs": [],
   "source": [
    "fruits.sort()"
   ]
  },
  {
   "cell_type": "code",
   "execution_count": 28,
   "id": "40953838-e4d5-463a-8128-fdbb9469c7b2",
   "metadata": {},
   "outputs": [
    {
     "name": "stdout",
     "output_type": "stream",
     "text": [
      "['apple', 'banana', 'mango', 'orange']\n"
     ]
    }
   ],
   "source": [
    "print(fruits)"
   ]
  },
  {
   "cell_type": "code",
   "execution_count": 30,
   "id": "b0c8471b-19fb-4d1e-b697-762e76a5881a",
   "metadata": {},
   "outputs": [],
   "source": [
    "colors=(\"red\",\"yellow\",\"blue\",\"white\",\"black\")"
   ]
  },
  {
   "cell_type": "code",
   "execution_count": 32,
   "id": "22235506-63e1-41da-a539-ca6d848f3038",
   "metadata": {},
   "outputs": [
    {
     "name": "stdout",
     "output_type": "stream",
     "text": [
      "blue\n"
     ]
    }
   ],
   "source": [
    "print(colors[2])"
   ]
  },
  {
   "cell_type": "code",
   "execution_count": 34,
   "id": "461c0e3d-63a1-48e3-bb88-bc954a63c69c",
   "metadata": {},
   "outputs": [
    {
     "ename": "TypeError",
     "evalue": "'tuple' object does not support item assignment",
     "output_type": "error",
     "traceback": [
      "\u001b[1;31m---------------------------------------------------------------------------\u001b[0m",
      "\u001b[1;31mTypeError\u001b[0m                                 Traceback (most recent call last)",
      "Cell \u001b[1;32mIn[34], line 1\u001b[0m\n\u001b[1;32m----> 1\u001b[0m colors[\u001b[38;5;241m1\u001b[39m]\u001b[38;5;241m=\u001b[39m\u001b[38;5;124m\"\u001b[39m\u001b[38;5;124mblack\u001b[39m\u001b[38;5;124m\"\u001b[39m\n",
      "\u001b[1;31mTypeError\u001b[0m: 'tuple' object does not support item assignment"
     ]
    }
   ],
   "source": [
    "colors[1]=\"black\""
   ]
  },
  {
   "cell_type": "code",
   "execution_count": 39,
   "id": "ab44423b-431d-49ce-924d-c0d1c41b157c",
   "metadata": {},
   "outputs": [],
   "source": [
    "numbers={1,2,3,4,5}"
   ]
  },
  {
   "cell_type": "code",
   "execution_count": 40,
   "id": "6ff14612-ddd3-491c-a046-90b88263acb7",
   "metadata": {},
   "outputs": [],
   "source": [
    "numbers.add(6)"
   ]
  },
  {
   "cell_type": "code",
   "execution_count": 43,
   "id": "36de4063-e950-4b30-af89-667593ff2c76",
   "metadata": {},
   "outputs": [
    {
     "name": "stdout",
     "output_type": "stream",
     "text": [
      "{1, 2, 3, 4, 5, 6}\n"
     ]
    }
   ],
   "source": [
    "print(numbers)"
   ]
  },
  {
   "cell_type": "code",
   "execution_count": 44,
   "id": "ad2904ff-cdb9-40fd-ba59-dbafb9db619a",
   "metadata": {},
   "outputs": [],
   "source": [
    "subjects=[\"math\",\"science\",\"evs\",\"history\",\"economics\"]"
   ]
  },
  {
   "cell_type": "code",
   "execution_count": 46,
   "id": "8f17e1bd-64fb-4aaa-b2e6-9636bba57f81",
   "metadata": {},
   "outputs": [],
   "source": [
    "subjects.append(\"BOM\")"
   ]
  },
  {
   "cell_type": "code",
   "execution_count": 47,
   "id": "a76866cf-e844-4c32-80fe-9ba0e5984ecf",
   "metadata": {},
   "outputs": [
    {
     "name": "stdout",
     "output_type": "stream",
     "text": [
      "['math', 'science', 'evs', 'history', 'economics', 'BOM']\n"
     ]
    }
   ],
   "source": [
    "print(subjects)"
   ]
  },
  {
   "cell_type": "code",
   "execution_count": 49,
   "id": "6ca75513-8e44-4dfa-adb3-297a6640a85d",
   "metadata": {},
   "outputs": [],
   "source": [
    "student={\n",
    "    \"name\":\"varshith\",\n",
    "    \"age\":18,\n",
    "    \"course\":\"python full stack\"\n",
    "}"
   ]
  },
  {
   "cell_type": "code",
   "execution_count": 50,
   "id": "2472b087-fad7-4539-81ed-4737ef62c7ae",
   "metadata": {},
   "outputs": [
    {
     "name": "stdout",
     "output_type": "stream",
     "text": [
      "varshith\n"
     ]
    }
   ],
   "source": [
    "print(student[\"name\"])"
   ]
  },
  {
   "cell_type": "code",
   "execution_count": 51,
   "id": "102b3180-d896-4366-ac86-b83a6ab73e9c",
   "metadata": {},
   "outputs": [],
   "source": [
    "student[\"age\"]=19"
   ]
  },
  {
   "cell_type": "code",
   "execution_count": 53,
   "id": "fdceb120-f203-4628-bc46-444972333b29",
   "metadata": {},
   "outputs": [
    {
     "name": "stdout",
     "output_type": "stream",
     "text": [
      "19\n"
     ]
    }
   ],
   "source": [
    "print(student[\"age\"])"
   ]
  },
  {
   "cell_type": "code",
   "execution_count": 54,
   "id": "56de1258-e0d0-4fe5-a912-77b0d3d9c7eb",
   "metadata": {},
   "outputs": [
    {
     "name": "stdout",
     "output_type": "stream",
     "text": [
      "{'name': 'varshith', 'age': 19, 'course': 'python full stack'}\n"
     ]
    }
   ],
   "source": [
    "print(student)"
   ]
  },
  {
   "cell_type": "code",
   "execution_count": 58,
   "id": "032abc2e-2522-48a0-8052-de66628959e8",
   "metadata": {},
   "outputs": [],
   "source": [
    "Brand={\n",
    "    \"Name\":\"McLaren\",\n",
    "    \"owner\":\"ROHAN\",\n",
    "    \"started in\":1369,\n",
    "    \"products\":\"duh,cars\"\n",
    "}\n"
   ]
  },
  {
   "cell_type": "code",
   "execution_count": 60,
   "id": "842ef76b-ef6c-4c86-a6d4-cdc7120341bf",
   "metadata": {},
   "outputs": [],
   "source": [
    "student[\"college\"]=\"acc college\""
   ]
  },
  {
   "cell_type": "code",
   "execution_count": 61,
   "id": "47c318e2-c8a7-4eb0-9e9b-365a6a072fe1",
   "metadata": {},
   "outputs": [
    {
     "name": "stdout",
     "output_type": "stream",
     "text": [
      "{'name': 'varshith', 'age': 19, 'course': 'python full stack', 'college': 'acc college'}\n"
     ]
    }
   ],
   "source": [
    "print(student)"
   ]
  },
  {
   "cell_type": "code",
   "execution_count": 62,
   "id": "a040d713-10eb-4e94-8190-6e1e9e6dd0f9",
   "metadata": {},
   "outputs": [
    {
     "name": "stdout",
     "output_type": "stream",
     "text": [
      "dict_keys(['name', 'age', 'course', 'college'])\n"
     ]
    }
   ],
   "source": [
    "print(student.keys())"
   ]
  },
  {
   "cell_type": "code",
   "execution_count": 65,
   "id": "b125a8a8-f1c1-422f-92db-ef81eabc18d2",
   "metadata": {},
   "outputs": [
    {
     "name": "stdout",
     "output_type": "stream",
     "text": [
      "dict_values(['McLaren', 'ROHAN', 1369, 'duh,cars'])\n"
     ]
    }
   ],
   "source": [
    "print(Brand.values())"
   ]
  },
  {
   "cell_type": "code",
   "execution_count": 67,
   "id": "9efb47a6-79db-48ab-9c1f-21a55402be7d",
   "metadata": {},
   "outputs": [],
   "source": [
    "Brand[\"example cars\"]=\"mclaren fc 38\""
   ]
  },
  {
   "cell_type": "code",
   "execution_count": 69,
   "id": "9ccebeb0-7ebb-436f-a779-b1a76641819c",
   "metadata": {},
   "outputs": [
    {
     "name": "stdout",
     "output_type": "stream",
     "text": [
      "{'Name': 'McLaren', 'owner': 'ROHAN', 'started in': 1369, 'products': 'duh,cars', 'example cars': 'mclaren fc 38'}\n"
     ]
    }
   ],
   "source": [
    "print(Brand)"
   ]
  },
  {
   "cell_type": "code",
   "execution_count": 75,
   "id": "bc1c23ee-dd16-47f2-8e18-f4e093b30b01",
   "metadata": {},
   "outputs": [
    {
     "name": "stdout",
     "output_type": "stream",
     "text": [
      "grade:Fail\n"
     ]
    }
   ],
   "source": [
    "marks=34\n",
    "if marks>=90:\n",
    "    print(\"grade:A\")\n",
    "elif marks>=75:\n",
    "     print(\"grade:B\")\n",
    "elif marks>=65:\n",
    "    print(\"grade:C\")\n",
    "elif marks>=50:\n",
    "    print(\"grase:D\")\n",
    "elif marks>=35:\n",
    "    print(\"grade:E\")\n",
    "else:\n",
    "    print(\"grade:Fail\")\n",
    "          "
   ]
  },
  {
   "cell_type": "code",
   "execution_count": 85,
   "id": "ccfd9ff8-beb5-4f04-bb9f-f656bbfaa54f",
   "metadata": {},
   "outputs": [
    {
     "name": "stdout",
     "output_type": "stream",
     "text": [
      "numbers: 1\n",
      "numbers: 2\n",
      "numbers: 3\n",
      "numbers: 4\n",
      "numbers: 5\n",
      "numbers: 6\n",
      "numbers: 7\n",
      "numbers: 8\n",
      "numbers: 9\n"
     ]
    }
   ],
   "source": [
    "for i in range(1,10):\n",
    "    print(\"numbers:\",i)"
   ]
  },
  {
   "cell_type": "code",
   "execution_count": 91,
   "id": "b73d90a6-d38a-4772-9b47-bf327f8a5191",
   "metadata": {},
   "outputs": [
    {
     "name": "stdout",
     "output_type": "stream",
     "text": [
      "count: 2\n",
      "count: 4\n",
      "count: 6\n",
      "count: 8\n",
      "count: 10\n",
      "count: 12\n",
      "count: 14\n",
      "count: 16\n",
      "count: 18\n",
      "count: 20\n"
     ]
    }
   ],
   "source": [
    "count=2\n",
    "while count<=20:\n",
    "    print(\"count:\",count)\n",
    "    count+=2"
   ]
  },
  {
   "cell_type": "code",
   "execution_count": 111,
   "id": "0a3f06c3-3f1d-40d6-981c-c79f483484ca",
   "metadata": {},
   "outputs": [
    {
     "name": "stdout",
     "output_type": "stream",
     "text": [
      "1\n",
      "2\n",
      "3\n",
      "4\n",
      "5\n"
     ]
    }
   ],
   "source": [
    "for i in range (1,10):\n",
    "    if i==6:\n",
    "     break\n",
    "    print(i)"
   ]
  },
  {
   "cell_type": "code",
   "execution_count": 110,
   "id": "92ad850c-9a0f-4498-8706-cbc5e9e8d114",
   "metadata": {},
   "outputs": [
    {
     "name": "stdout",
     "output_type": "stream",
     "text": [
      "1\n",
      "2\n",
      "3\n",
      "4\n",
      "5\n",
      "7\n",
      "8\n",
      "9\n"
     ]
    }
   ],
   "source": [
    "for i in range(1,10):\n",
    "    if i==6:\n",
    "     continue\n",
    "    print(i)"
   ]
  },
  {
   "cell_type": "code",
   "execution_count": null,
   "id": "b853db78-87b9-47a8-94bf-3544e6d885ec",
   "metadata": {},
   "outputs": [],
   "source": []
  }
 ],
 "metadata": {
  "kernelspec": {
   "display_name": "Python [conda env:base] *",
   "language": "python",
   "name": "conda-base-py"
  },
  "language_info": {
   "codemirror_mode": {
    "name": "ipython",
    "version": 3
   },
   "file_extension": ".py",
   "mimetype": "text/x-python",
   "name": "python",
   "nbconvert_exporter": "python",
   "pygments_lexer": "ipython3",
   "version": "3.13.5"
  }
 },
 "nbformat": 4,
 "nbformat_minor": 5
}
