{
 "cells": [
  {
   "cell_type": "code",
   "execution_count": 1,
   "id": "30901755-8366-427d-b89a-5d3191989aa7",
   "metadata": {},
   "outputs": [
    {
     "name": "stdout",
     "output_type": "stream",
     "text": [
      "hello , python full stack students!\n"
     ]
    }
   ],
   "source": [
    "print(\"hello , python full stack students!\")"
   ]
  },
  {
   "cell_type": "code",
   "execution_count": 2,
   "id": "d577e546-2683-4120-93d0-6e8c7de4cd2e",
   "metadata": {},
   "outputs": [
    {
     "name": "stdout",
     "output_type": "stream",
     "text": [
      "back hand , front hand\n"
     ]
    }
   ],
   "source": [
    "print(\"back hand , front hand\")"
   ]
  },
  {
   "cell_type": "code",
   "execution_count": 3,
   "id": "ef0f15e8-8c8f-43d6-b286-6835d5b42ec1",
   "metadata": {},
   "outputs": [
    {
     "name": "stdout",
     "output_type": "stream",
     "text": [
      "raghu 69 4.3 True\n"
     ]
    }
   ],
   "source": [
    "name = \"raghu\"\n",
    "age = 69\n",
    "gpa = 4.3\n",
    "is_student = True \n",
    "print(name , age , gpa , is_student)"
   ]
  },
  {
   "cell_type": "markdown",
   "id": "c680edf4-1df7-471e-a90f-cf73841225c8",
   "metadata": {},
   "source": []
  },
  {
   "cell_type": "code",
   "execution_count": 6,
   "id": "a2d5a399-b57f-4248-a940-ac67c5bffa75",
   "metadata": {},
   "outputs": [
    {
     "name": "stdout",
     "output_type": "stream",
     "text": [
      "ROHAN\n"
     ]
    }
   ],
   "source": [
    "NAME = \"ROHAN\" \n",
    "print(NAME)"
   ]
  },
  {
   "cell_type": "code",
   "execution_count": 11,
   "id": "c92611a3-3c77-43ae-9f60-73a435476842",
   "metadata": {},
   "outputs": [],
   "source": [
    "name1=\"lalith\"\n",
    "name2=\"gaurav\"\n",
    "name3=\"rushi\"\n",
    "name4=\"ADITYA\""
   ]
  },
  {
   "cell_type": "code",
   "execution_count": 12,
   "id": "d7d27be2-7e76-4751-a5a4-5b7af1fcd5fc",
   "metadata": {},
   "outputs": [
    {
     "name": "stdout",
     "output_type": "stream",
     "text": [
      "lalith\n"
     ]
    }
   ],
   "source": [
    "print(name1)"
   ]
  },
  {
   "cell_type": "code",
   "execution_count": 13,
   "id": "a2d77c6a-e6c2-4cb9-bcd5-a5d749d215c0",
   "metadata": {},
   "outputs": [
    {
     "name": "stdout",
     "output_type": "stream",
     "text": [
      "ADITYA\n"
     ]
    }
   ],
   "source": [
    "print(name4)"
   ]
  },
  {
   "cell_type": "code",
   "execution_count": 14,
   "id": "ad2d66c8-1441-4f17-afe3-415a150eadf0",
   "metadata": {},
   "outputs": [
    {
     "name": "stdout",
     "output_type": "stream",
     "text": [
      "raghu\n"
     ]
    }
   ],
   "source": [
    "print(name)"
   ]
  },
  {
   "cell_type": "code",
   "execution_count": 17,
   "id": "c6c5e4be-19aa-4109-b6ca-45cb3aaa6452",
   "metadata": {},
   "outputs": [],
   "source": [
    "name=\"raghavendra\""
   ]
  },
  {
   "cell_type": "code",
   "execution_count": 18,
   "id": "59e263bc-8ae2-4f31-bbf3-135c75d6aea9",
   "metadata": {},
   "outputs": [
    {
     "name": "stdout",
     "output_type": "stream",
     "text": [
      "raghavendra\n"
     ]
    }
   ],
   "source": [
    "print(name)"
   ]
  },
  {
   "cell_type": "code",
   "execution_count": 28,
   "id": "65a43cac-7e08-4b63-abb3-f90a2238045b",
   "metadata": {},
   "outputs": [],
   "source": [
    "x = 4\n",
    "a = 5\n",
    "u =\"raghu\"\n",
    "flag =False"
   ]
  },
  {
   "cell_type": "code",
   "execution_count": 30,
   "id": "8226b30f-2e19-4c93-af00-418cb2757491",
   "metadata": {},
   "outputs": [
    {
     "name": "stdout",
     "output_type": "stream",
     "text": [
      "<class 'int'> <class 'int'> <class 'str'> <class 'bool'>\n"
     ]
    }
   ],
   "source": [
    "print(type(x) ,type(a) ,type(u) ,type(flag))"
   ]
  },
  {
   "cell_type": "code",
   "execution_count": 35,
   "id": "d570cea8-c7ae-47bc-a21c-fdf51856c1e6",
   "metadata": {},
   "outputs": [
    {
     "name": "stdout",
     "output_type": "stream",
     "text": [
      "45\n"
     ]
    }
   ],
   "source": [
    "print(x)"
   ]
  },
  {
   "cell_type": "code",
   "execution_count": 32,
   "id": "30d3c2c0-b40e-46da-b93b-c82af9ab6e10",
   "metadata": {},
   "outputs": [
    {
     "name": "stdout",
     "output_type": "stream",
     "text": [
      "raghu\n"
     ]
    }
   ],
   "source": [
    "print(u)"
   ]
  },
  {
   "cell_type": "code",
   "execution_count": 33,
   "id": "367a28e3-2437-4c42-ab0a-916c51988f2c",
   "metadata": {},
   "outputs": [
    {
     "name": "stdout",
     "output_type": "stream",
     "text": [
      "False\n"
     ]
    }
   ],
   "source": [
    "print(flag)"
   ]
  },
  {
   "cell_type": "code",
   "execution_count": 34,
   "id": "014d84a9-0ac8-4570-80f9-53ddeac872bf",
   "metadata": {},
   "outputs": [],
   "source": [
    "x = 45"
   ]
  },
  {
   "cell_type": "code",
   "execution_count": 50,
   "id": "cfbba976-d8e4-41ee-8523-a4db58e3a29e",
   "metadata": {},
   "outputs": [],
   "source": [
    "name=\"lali\"\n",
    "college=\"wesley\"\n",
    "favoriteprogramminglanguage=\"java\""
   ]
  },
  {
   "cell_type": "code",
   "execution_count": 37,
   "id": "d9cf7b69-7675-47ba-82b9-aa3b9104aec9",
   "metadata": {},
   "outputs": [],
   "source": [
    "year1=2006\n",
    "year2=2025"
   ]
  },
  {
   "cell_type": "code",
   "execution_count": 45,
   "id": "ec102348-7063-41b7-9b19-e6f6323b00c2",
   "metadata": {},
   "outputs": [],
   "source": [
    "age=year2-year1"
   ]
  },
  {
   "cell_type": "code",
   "execution_count": 46,
   "id": "34d0bade-f355-4cc3-a7f0-4518a9f62731",
   "metadata": {},
   "outputs": [
    {
     "name": "stdout",
     "output_type": "stream",
     "text": [
      "19\n"
     ]
    }
   ],
   "source": [
    "print(age)"
   ]
  },
  {
   "cell_type": "code",
   "execution_count": 56,
   "id": "f9ce0454-19c1-4f93-ba13-cef80e6d5d1a",
   "metadata": {},
   "outputs": [],
   "source": [
    "movie_name=\"raghu KBL the G.O.A.T\"\n",
    "release_year=1968\n",
    "rating=0.9"
   ]
  },
  {
   "cell_type": "code",
   "execution_count": 54,
   "id": "36f5923a-e204-4d55-aee5-4b34c98b13d3",
   "metadata": {},
   "outputs": [
    {
     "name": "stdout",
     "output_type": "stream",
     "text": [
      "raghu KBL the G.O.A.T\n"
     ]
    }
   ],
   "source": [
    "print(movie_name)"
   ]
  },
  {
   "cell_type": "code",
   "execution_count": 57,
   "id": "72de2154-1a9e-4beb-a858-5e673c1db3d5",
   "metadata": {},
   "outputs": [
    {
     "name": "stdout",
     "output_type": "stream",
     "text": [
      "addition: 5902531\n"
     ]
    }
   ],
   "source": [
    "print(\"addition:\",456987+5445544)"
   ]
  },
  {
   "cell_type": "code",
   "execution_count": 58,
   "id": "38676336-a752-4d36-8e1d-0fb1a4e71fb9",
   "metadata": {},
   "outputs": [
    {
     "name": "stdout",
     "output_type": "stream",
     "text": [
      "division: 9.766998606720785\n"
     ]
    }
   ],
   "source": [
    "print(\"division:\",454622222452/46546768435)"
   ]
  },
  {
   "cell_type": "code",
   "execution_count": 61,
   "id": "0d67e41a-16bb-423d-b9d9-50cf2fe28e94",
   "metadata": {},
   "outputs": [
    {
     "name": "stdout",
     "output_type": "stream",
     "text": [
      "floor division: 5\n"
     ]
    }
   ],
   "source": [
    "print(\"floor division:\",45//9)"
   ]
  },
  {
   "cell_type": "code",
   "execution_count": 65,
   "id": "b1832301-29f8-472d-ba86-a3901cf09f5a",
   "metadata": {},
   "outputs": [
    {
     "name": "stdout",
     "output_type": "stream",
     "text": [
      "power: 81\n"
     ]
    }
   ],
   "source": [
    "print(\"power:\",3**4)"
   ]
  },
  {
   "cell_type": "code",
   "execution_count": 66,
   "id": "3d2eee51-34be-4547-b431-931a634afdaa",
   "metadata": {},
   "outputs": [],
   "source": [
    "a=4548\n",
    "b=68435"
   ]
  },
  {
   "cell_type": "code",
   "execution_count": 71,
   "id": "6313e867-e28b-4391-ad8b-19ffe7c980c6",
   "metadata": {},
   "outputs": [
    {
     "name": "stdout",
     "output_type": "stream",
     "text": [
      "True\n"
     ]
    }
   ],
   "source": [
    "print(b>a)#false"
   ]
  },
  {
   "cell_type": "code",
   "execution_count": 74,
   "id": "4885fda9-0dbd-4c59-8dc0-dfd116cadc28",
   "metadata": {},
   "outputs": [
    {
     "name": "stdout",
     "output_type": "stream",
     "text": [
      "True\n"
     ]
    }
   ],
   "source": [
    "print(a==4548)#True"
   ]
  },
  {
   "cell_type": "code",
   "execution_count": 77,
   "id": "4a9d7f16-4615-46ad-95a9-6368aa0db049",
   "metadata": {},
   "outputs": [
    {
     "name": "stdout",
     "output_type": "stream",
     "text": [
      "False\n"
     ]
    }
   ],
   "source": [
    "print((b<a)and(b==68435))#True"
   ]
  },
  {
   "cell_type": "code",
   "execution_count": null,
   "id": "d96f22eb-8c20-4273-af14-ef883c8bf627",
   "metadata": {},
   "outputs": [],
   "source": []
  }
 ],
 "metadata": {
  "kernelspec": {
   "display_name": "Python [conda env:base] *",
   "language": "python",
   "name": "conda-base-py"
  },
  "language_info": {
   "codemirror_mode": {
    "name": "ipython",
    "version": 3
   },
   "file_extension": ".py",
   "mimetype": "text/x-python",
   "name": "python",
   "nbconvert_exporter": "python",
   "pygments_lexer": "ipython3",
   "version": "3.13.5"
  }
 },
 "nbformat": 4,
 "nbformat_minor": 5
}
